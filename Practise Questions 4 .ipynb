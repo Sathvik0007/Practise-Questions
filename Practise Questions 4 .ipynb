{
 "cells": [
  {
   "cell_type": "code",
   "execution_count": 1,
   "id": "2283f147-945f-4616-9bf6-131938b4a440",
   "metadata": {},
   "outputs": [
    {
     "name": "stdin",
     "output_type": "stream",
     "text": [
      " 1\n",
      " 2\n",
      " 3\n"
     ]
    },
    {
     "name": "stdout",
     "output_type": "stream",
     "text": [
      "c is greatest number\n"
     ]
    }
   ],
   "source": [
    "#Question Number 1 = To Print the greatest of 3 Number\n",
    "a=int(input())\n",
    "b=int(input())\n",
    "c=int(input())\n",
    "if a>b:\n",
    "    print(\"a is greatest number\")\n",
    "elif b>c:\n",
    "    print(\"b is greatest number\")\n",
    "else:\n",
    "    print(\"c is greatest number\")"
   ]
  },
  {
   "cell_type": "code",
   "execution_count": 3,
   "id": "30a9ce0f-2907-4839-9111-caded18300df",
   "metadata": {},
   "outputs": [
    {
     "name": "stdin",
     "output_type": "stream",
     "text": [
      " 1\n",
      " 2\n",
      " 3\n"
     ]
    },
    {
     "name": "stdout",
     "output_type": "stream",
     "text": [
      "b is second greatest number 2\n"
     ]
    }
   ],
   "source": [
    "#Question Number 2 = To Print the Second Greatest of 3 Number\n",
    "a=int(input())\n",
    "b=int(input())\n",
    "c=int(input())\n",
    "if a>b:\n",
    "    print(\"a is Second greatest number\",a)\n",
    "elif c<a:\n",
    "    print(\"c is second greatest number\",c)\n",
    "else:\n",
    "    print(\"b is second greatest number\",b)"
   ]
  },
  {
   "cell_type": "code",
   "execution_count": 5,
   "id": "abe055c2-fd24-4f3b-b23f-c3fbabda3e2e",
   "metadata": {},
   "outputs": [
    {
     "name": "stdin",
     "output_type": "stream",
     "text": [
      " 1\n",
      " 2\n",
      " 3\n",
      " 4\n"
     ]
    },
    {
     "name": "stdout",
     "output_type": "stream",
     "text": [
      "a is smallest number\n"
     ]
    }
   ],
   "source": [
    "#Question Number 3 = To print the Smallest of 4 Numbers\n",
    "a=int(input())\n",
    "b=int(input())\n",
    "c=int(input())\n",
    "d=int(input())\n",
    "if a<b:\n",
    "    print(\"a is smallest number\")\n",
    "elif b<c:\n",
    "    print(\"b is smallest number\")\n",
    "elif c<a:\n",
    "    print(\"c is smallest number\")\n",
    "else:\n",
    "    print(\"d is smallest number\")"
   ]
  },
  {
   "cell_type": "code",
   "execution_count": 9,
   "id": "55dde3f0-8ef5-43da-b2ca-7769948800eb",
   "metadata": {},
   "outputs": [
    {
     "name": "stdin",
     "output_type": "stream",
     "text": [
      "Enter the number 1\n"
     ]
    },
    {
     "name": "stdout",
     "output_type": "stream",
     "text": [
      "a is positive number\n"
     ]
    }
   ],
   "source": [
    "#Question Number 4 = To find the given Number is Positive or Negative Number\n",
    "a=int(input(\"Enter the number\"))\n",
    "if a>0:\n",
    "    print(\"a is positive number\")\n",
    "else:\n",
    "    print(\"a is negative number\")"
   ]
  },
  {
   "cell_type": "code",
   "execution_count": 11,
   "id": "0f11af2f-d120-43c6-ac3a-9e9a4183bbcf",
   "metadata": {},
   "outputs": [
    {
     "name": "stdin",
     "output_type": "stream",
     "text": [
      "Enter a year:  2000\n"
     ]
    },
    {
     "name": "stdout",
     "output_type": "stream",
     "text": [
      "2000 is a Leap Year.\n"
     ]
    }
   ],
   "source": [
    "#Question Number 5 = To find the Leap year or Not\n",
    "year = int(input(\"Enter a year: \"))\n",
    "\n",
    "if (year % 4 == 0 and year % 100 != 0) or year % 400 == 0:\n",
    "    print(f\"{year} is a Leap Year.\")\n",
    "else:\n",
    "    print(f\"{year} is not a Leap Year.\")\n"
   ]
  },
  {
   "cell_type": "code",
   "execution_count": 17,
   "id": "4cd6df9e-69d3-4b95-9115-794bed00036e",
   "metadata": {},
   "outputs": [
    {
     "name": "stdin",
     "output_type": "stream",
     "text": [
      "Enter a number 25\n"
     ]
    },
    {
     "name": "stdout",
     "output_type": "stream",
     "text": [
      "yes\n"
     ]
    }
   ],
   "source": [
    "#Question Number 6 = To find the given Number is Perfect Square or Not\n",
    "import math\n",
    "a=int(input(\"Enter a number\"))\n",
    "sqrt_a=math.sqrt(a)\n",
    "if sqrt_a**2==a:\n",
    "    print(\"yes\")\n",
    "else:\n",
    "    print(\"no\")"
   ]
  },
  {
   "cell_type": "code",
   "execution_count": 19,
   "id": "02b739bf-f011-4dae-9e3e-f24a1a600822",
   "metadata": {},
   "outputs": [
    {
     "name": "stdin",
     "output_type": "stream",
     "text": [
      " 1\n"
     ]
    },
    {
     "name": "stdout",
     "output_type": "stream",
     "text": [
      "not an alpabet\n"
     ]
    }
   ],
   "source": [
    "#Question Number 7 = To check the given Alphabet is Even or Not \n",
    "a=input()\n",
    "if a in 'aeiouAEIOU':\n",
    "    print('vowel')\n",
    "elif a.isalpha() :\n",
    "    print('consonant')\n",
    "else:\n",
    "    print('not an alpabet')"
   ]
  },
  {
   "cell_type": "code",
   "execution_count": 21,
   "id": "d9f1add4-db24-4358-b7c6-a95742fa5be3",
   "metadata": {},
   "outputs": [
    {
     "name": "stdin",
     "output_type": "stream",
     "text": [
      "First input corresponds to x coordinate:  1\n",
      "Second input corresponds to y coordinate:  2\n"
     ]
    },
    {
     "name": "stdout",
     "output_type": "stream",
     "text": [
      "1st Quadrant\n"
     ]
    }
   ],
   "source": [
    "#Question Number 8 = To find the Quadrant\n",
    "a = int(input(\"First input corresponds to x coordinate: \"))\n",
    "b = int(input(\"Second input corresponds to y coordinate: \"))\n",
    "\n",
    "if a > 0 and b > 0:\n",
    "    print(\"1st Quadrant\")\n",
    "elif a < 0 and b > 0:\n",
    "    print(\"2nd Quadrant\")\n",
    "elif a < 0 and b < 0:\n",
    "    print(\"3rd Quadrant\")\n",
    "elif a > 0 and b < 0:\n",
    "    print(\"4th Quadrant\")\n",
    "else :\n",
    "    print(\"Origin\")\n"
   ]
  },
  {
   "cell_type": "code",
   "execution_count": null,
   "id": "aae1ff70-592d-4abe-b268-14280267d091",
   "metadata": {},
   "outputs": [],
   "source": []
  }
 ],
 "metadata": {
  "kernelspec": {
   "display_name": "Python 3 (ipykernel)",
   "language": "python",
   "name": "python3"
  },
  "language_info": {
   "codemirror_mode": {
    "name": "ipython",
    "version": 3
   },
   "file_extension": ".py",
   "mimetype": "text/x-python",
   "name": "python",
   "nbconvert_exporter": "python",
   "pygments_lexer": "ipython3",
   "version": "3.12.4"
  }
 },
 "nbformat": 4,
 "nbformat_minor": 5
}
